{
  "cells": [
    {
      "cell_type": "markdown",
      "metadata": {
        "id": "view-in-github",
        "colab_type": "text"
      },
      "source": [
        "<a href=\"https://colab.research.google.com/github/aritrosrkr/CSE-Labs/blob/main/CSE220/Lab06_23201283.ipynb\" target=\"_parent\"><img src=\"https://colab.research.google.com/assets/colab-badge.svg\" alt=\"Open In Colab\"/></a>"
      ]
    },
    {
      "cell_type": "code",
      "execution_count": 2,
      "metadata": {
        "id": "D6vC520OPeTa"
      },
      "outputs": [],
      "source": [
        "class BTNode:\n",
        "  def __init__(self, elem):\n",
        "    self.elem = elem\n",
        "    self.right = None\n",
        "    self.left = None"
      ]
    },
    {
      "cell_type": "code",
      "execution_count": 3,
      "metadata": {
        "id": "UDTKlm4-PfNM"
      },
      "outputs": [],
      "source": [
        "def inorder(root):\n",
        "  if root == None:\n",
        "    return\n",
        "\n",
        "  inorder(root.left)\n",
        "  print(root.elem, end = ' ')\n",
        "  inorder(root.right)"
      ]
    },
    {
      "cell_type": "code",
      "execution_count": 4,
      "metadata": {
        "id": "Rtc22SPzPgzM",
        "colab": {
          "base_uri": "https://localhost:8080/"
        },
        "outputId": "5552dfba-20b5-4dda-c71c-217966b6f323"
      },
      "outputs": [
        {
          "output_type": "stream",
          "name": "stdout",
          "text": [
            "H D B E A I F J C G k "
          ]
        }
      ],
      "source": [
        "def tree_construction(arr, i = 1):\n",
        "  if i>=len(arr) or arr[i] == None:\n",
        "    return None\n",
        "  p = BTNode(arr[i])\n",
        "  p.left = tree_construction(arr, 2*i)\n",
        "  p.right = tree_construction(arr, 2*i+1)\n",
        "  return p\n",
        "\n",
        "\n",
        "root2 = tree_construction([None, 'A', 'B', 'C', 'D', 'E', 'F', 'G', 'H', None, None, None, 'I', 'J', None, 'k'])\n",
        "inorder(root2)"
      ]
    },
    {
      "cell_type": "markdown",
      "metadata": {
        "id": "S2nNCJNhPqGq"
      },
      "source": [
        "Task 1"
      ]
    },
    {
      "cell_type": "code",
      "execution_count": null,
      "metadata": {
        "id": "zbBHU3FoPieb",
        "colab": {
          "base_uri": "https://localhost:8080/"
        },
        "outputId": "8fe017f6-7398-48a2-f9ea-1b2791b21665"
      },
      "outputs": [
        {
          "output_type": "stream",
          "name": "stdout",
          "text": [
            "10\n",
            "15\n",
            "20\n",
            "25\n",
            "10\n"
          ]
        }
      ],
      "source": [
        "def LCA(root, x, y):\n",
        "  if root is None:\n",
        "    return\n",
        "  if x > y:\n",
        "    x, y = y, x\n",
        "  if x <= root.elem <= y:\n",
        "    return root.elem\n",
        "  else:\n",
        "    L = LCA(root.left, x, y)\n",
        "    R = LCA(root.right, x, y)\n",
        "  if L is not None:\n",
        "    return L\n",
        "  elif R is not None:\n",
        "    return R\n",
        "\n",
        "\n",
        "#DRIVER CODE\n",
        "root = BTNode(15)\n",
        "n2 = BTNode(10)\n",
        "n3 = BTNode(25)\n",
        "n4 = BTNode(8)\n",
        "n5 = BTNode(12)\n",
        "n6 = BTNode(20)\n",
        "n7 = BTNode(30)\n",
        "n8 = BTNode(6)\n",
        "n9 = BTNode(9)\n",
        "n10 = BTNode(18)\n",
        "n11 = BTNode(22)\n",
        "\n",
        "root.left = n2\n",
        "root.right = n3\n",
        "\n",
        "n2.left = n4\n",
        "n2.right = n5\n",
        "\n",
        "n3.left = n6\n",
        "n3.right = n7\n",
        "\n",
        "n4.left = n8\n",
        "n4.right = n9\n",
        "\n",
        "n6.left = n10\n",
        "n6.right = n11\n",
        "\n",
        "#Write by yourself from the given tree (Create parent node and its corresponding left and right children nodes)\n",
        "#check all the sample inputs given\n",
        "#You can take help by seeing the driver code of Lab-6\n",
        "print(LCA(root, 6,12))\n",
        "print(LCA(root, 20,6))\n",
        "print(LCA(root, 18,22))\n",
        "print(LCA(root, 20,25))\n",
        "print(LCA(root, 10,12))"
      ]
    },
    {
      "cell_type": "markdown",
      "metadata": {
        "id": "c-TBf3m0PrtK"
      },
      "source": [
        "Task 2"
      ]
    },
    {
      "cell_type": "code",
      "source": [
        "def find_path(root, key):\n",
        "  path = []\n",
        "  if root is None:\n",
        "    return \"No path found\"\n",
        "  if root.elem == key:\n",
        "    return path + [key]\n",
        "  path += [root.elem]\n",
        "  if root.elem < key:\n",
        "    path = find_path(root.right, key)\n",
        "  if root.elem > key:\n",
        "    path = find_path(root.left, key)\n",
        "  if type(path) is str:\n",
        "    return \"No path found\"\n",
        "  return path\n",
        "\n",
        "#DRIVER CODE\n",
        "root = BTNode(30)\n",
        "n2 = BTNode(10)\n",
        "n3 = BTNode(40)\n",
        "n4 = BTNode(3)\n",
        "n5 = BTNode(15)\n",
        "n6 = BTNode(35)\n",
        "n7 = BTNode(55)\n",
        "n8 = BTNode(2)\n",
        "n9 = BTNode(36)\n",
        "\n",
        "root.left = n2\n",
        "root.right = n3\n",
        "\n",
        "n2.left = n4\n",
        "n2.right = n5\n",
        "\n",
        "n3.left = n6\n",
        "n3.right = n7\n",
        "\n",
        "n4.next = n8\n",
        "\n",
        "n6.right = n9\n",
        "\n",
        "#Write by yourself from the given tree\n",
        "print(find_path(root,15))\n",
        "#This should print [30,10,15]\n",
        "\n",
        "print(find_path(root,50))\n",
        "#This should print No Path Found"
      ],
      "metadata": {
        "id": "i6l-v7k1eE9A",
        "colab": {
          "base_uri": "https://localhost:8080/"
        },
        "outputId": "a927f762-ba8a-4d94-c300-fac47c01e721"
      },
      "execution_count": null,
      "outputs": [
        {
          "output_type": "stream",
          "name": "stdout",
          "text": [
            "[15]\n",
            "No path found\n"
          ]
        }
      ]
    },
    {
      "cell_type": "markdown",
      "metadata": {
        "id": "7r3lH3aWPz2d"
      },
      "source": [
        "Task 3"
      ]
    },
    {
      "cell_type": "code",
      "source": [
        "def sum_of_leaves(root, sum):\n",
        "  if root is None:\n",
        "    return sum\n",
        "  if root.left is None and root.right is None:\n",
        "    return root.elem\n",
        "  sum += sum_of_leaves(root.left, sum) + sum_of_leaves(root.right, sum)\n",
        "  return sum\n",
        "\n",
        "#DRIVER CODE\n",
        "root = BTNode(30)\n",
        "n2 = BTNode(10)\n",
        "n3 = BTNode(40)\n",
        "n4 = BTNode(3)\n",
        "n5 = BTNode(15)\n",
        "n6 = BTNode(35)\n",
        "n7 = BTNode(55)\n",
        "n8 = BTNode(2)\n",
        "n9 = BTNode(36)\n",
        "\n",
        "root.left = n2\n",
        "root.right = n3\n",
        "\n",
        "n2.left = n4\n",
        "n2.right = n5\n",
        "\n",
        "n3.left = n6\n",
        "n3.right = n7\n",
        "\n",
        "n4.left = n8\n",
        "\n",
        "n6.right = n9\n",
        "\n",
        "print(sum_of_leaves(root, 0))"
      ],
      "metadata": {
        "id": "5eT12zYb8zm7",
        "colab": {
          "base_uri": "https://localhost:8080/"
        },
        "outputId": "18f7e35a-d873-453b-b1ca-543d9fb490df"
      },
      "execution_count": null,
      "outputs": [
        {
          "output_type": "stream",
          "name": "stdout",
          "text": [
            "108\n"
          ]
        }
      ]
    },
    {
      "cell_type": "markdown",
      "metadata": {
        "id": "5KeA-BoC3uOo"
      },
      "source": [
        "Task 4"
      ]
    },
    {
      "cell_type": "code",
      "execution_count": 70,
      "metadata": {
        "id": "zFwP64v4Pu6d",
        "colab": {
          "base_uri": "https://localhost:8080/"
        },
        "outputId": "b83b015e-fee3-4cce-fc0a-f85482953402"
      },
      "outputs": [
        {
          "output_type": "stream",
          "name": "stdout",
          "text": [
            "Given Tree Inorder Traversal:  4 8 10 12 14 20 22 \n",
            "\n",
            "[20]\n"
          ]
        }
      ],
      "source": [
        "def inorder_predecessor(root, x):\n",
        "  if root is not None:\n",
        "    # # print(root)\n",
        "    # return L\n",
        "    L += inorder_predecessor(root.left, x)\n",
        "\n",
        "    return inorder_predecessor(root.right, x).elem\n",
        "\n",
        "\n",
        "#DRIVER CODE\n",
        "root = BTNode(20)\n",
        "n1 = BTNode(8)\n",
        "n2 = BTNode(22)\n",
        "n3 = BTNode(4)\n",
        "n4 = BTNode(12)\n",
        "n5 = BTNode(10)\n",
        "n6 = BTNode(14)\n",
        "\n",
        "root.left = n1\n",
        "root.right = n2\n",
        "\n",
        "n1.left = n3\n",
        "n1.right = n4\n",
        "\n",
        "n4.left = n5\n",
        "n4.right = n6\n",
        "\n",
        "print('Given Tree Inorder Traversal: ', end = ' ')\n",
        "inorder(root) #Given Tree Inorder Traversal:  4 8 10 12 14 20 22\n",
        "print()\n",
        "\n",
        "x = root\n",
        "print()\n",
        "print(inorder_predecessor(root, n1))\n",
        "# print(f'Inorder predecessor of node {x.elem}: {inorder_predecessor(root, x).elem}') #Inorder predecessor of node 20: 14"
      ]
    },
    {
      "cell_type": "code",
      "source": [
        "#"
      ],
      "metadata": {
        "id": "-dmjodkvzHOW"
      },
      "execution_count": null,
      "outputs": []
    }
  ],
  "metadata": {
    "colab": {
      "provenance": [],
      "include_colab_link": true
    },
    "kernelspec": {
      "display_name": "Python 3",
      "name": "python3"
    },
    "language_info": {
      "name": "python"
    }
  },
  "nbformat": 4,
  "nbformat_minor": 0
}